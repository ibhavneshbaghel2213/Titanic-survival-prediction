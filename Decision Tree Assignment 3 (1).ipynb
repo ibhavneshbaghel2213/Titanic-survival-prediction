{
 "cells": [
  {
   "cell_type": "markdown",
   "id": "aaed85a7",
   "metadata": {},
   "source": [
    "## Assignment 3\n",
    "\n",
    "Predicting Survival in the Titanic Data Set\n",
    "We will be using a decision tree to make predictions about the\n",
    "Titanic data\n",
    "set from Kaggle. This data set provides information on the Titanic\n",
    "passengers and can be used to predict whether a passenger\n",
    "survived or\n",
    "not."
   ]
  },
  {
   "cell_type": "code",
   "execution_count": 1,
   "id": "2e3d8d11",
   "metadata": {},
   "outputs": [],
   "source": [
    "import numpy as np\n",
    "import pandas as pd\n",
    "import seaborn as sb\n",
    "import matplotlib.pyplot as plt\n",
    "import sklearn\n",
    "from pylab import rcParams\n",
    "from sklearn import preprocessing\n",
    "from sklearn.tree import DecisionTreeClassifier\n",
    "from sklearn.model_selection import train_test_split\n",
    "from sklearn import metrics\n",
    "from sklearn.metrics import classification_report"
   ]
  },
  {
   "cell_type": "code",
   "execution_count": 2,
   "id": "7c096c38",
   "metadata": {},
   "outputs": [],
   "source": [
    "Url = \"https://raw.githubusercontent.com/BigDataGal/Python-for-Data-Science/master/titanic-train.csv\""
   ]
  },
  {
   "cell_type": "code",
   "execution_count": 3,
   "id": "de9d2382",
   "metadata": {},
   "outputs": [],
   "source": [
    "titanic = pd.read_csv(Url) # reading Data"
   ]
  },
  {
   "cell_type": "code",
   "execution_count": 4,
   "id": "70713fb0",
   "metadata": {},
   "outputs": [],
   "source": [
    "titanic.columns =[\"PassengerId\",\"Survived\",\"Pclass\",\"Name\",\"Sex\",\"Age\",\"SibSp\",\"Parch\",\"Ticket\",\"Fare\",\"Cabin\",\"E mbarked\"]"
   ]
  },
  {
   "cell_type": "code",
   "execution_count": 5,
   "id": "4206116b",
   "metadata": {},
   "outputs": [
    {
     "data": {
      "text/html": [
       "<div>\n",
       "<style scoped>\n",
       "    .dataframe tbody tr th:only-of-type {\n",
       "        vertical-align: middle;\n",
       "    }\n",
       "\n",
       "    .dataframe tbody tr th {\n",
       "        vertical-align: top;\n",
       "    }\n",
       "\n",
       "    .dataframe thead th {\n",
       "        text-align: right;\n",
       "    }\n",
       "</style>\n",
       "<table border=\"1\" class=\"dataframe\">\n",
       "  <thead>\n",
       "    <tr style=\"text-align: right;\">\n",
       "      <th></th>\n",
       "      <th>PassengerId</th>\n",
       "      <th>Survived</th>\n",
       "      <th>Pclass</th>\n",
       "      <th>Name</th>\n",
       "      <th>Sex</th>\n",
       "      <th>Age</th>\n",
       "      <th>SibSp</th>\n",
       "      <th>Parch</th>\n",
       "      <th>Ticket</th>\n",
       "      <th>Fare</th>\n",
       "      <th>Cabin</th>\n",
       "      <th>E mbarked</th>\n",
       "    </tr>\n",
       "  </thead>\n",
       "  <tbody>\n",
       "    <tr>\n",
       "      <th>0</th>\n",
       "      <td>1</td>\n",
       "      <td>0</td>\n",
       "      <td>3</td>\n",
       "      <td>Braund, Mr. Owen Harris</td>\n",
       "      <td>male</td>\n",
       "      <td>22.0</td>\n",
       "      <td>1</td>\n",
       "      <td>0</td>\n",
       "      <td>A/5 21171</td>\n",
       "      <td>7.2500</td>\n",
       "      <td>NaN</td>\n",
       "      <td>S</td>\n",
       "    </tr>\n",
       "    <tr>\n",
       "      <th>1</th>\n",
       "      <td>2</td>\n",
       "      <td>1</td>\n",
       "      <td>1</td>\n",
       "      <td>Cumings, Mrs. John Bradley (Florence Briggs Th...</td>\n",
       "      <td>female</td>\n",
       "      <td>38.0</td>\n",
       "      <td>1</td>\n",
       "      <td>0</td>\n",
       "      <td>PC 17599</td>\n",
       "      <td>71.2833</td>\n",
       "      <td>C85</td>\n",
       "      <td>C</td>\n",
       "    </tr>\n",
       "    <tr>\n",
       "      <th>2</th>\n",
       "      <td>3</td>\n",
       "      <td>1</td>\n",
       "      <td>3</td>\n",
       "      <td>Heikkinen, Miss. Laina</td>\n",
       "      <td>female</td>\n",
       "      <td>26.0</td>\n",
       "      <td>0</td>\n",
       "      <td>0</td>\n",
       "      <td>STON/O2. 3101282</td>\n",
       "      <td>7.9250</td>\n",
       "      <td>NaN</td>\n",
       "      <td>S</td>\n",
       "    </tr>\n",
       "    <tr>\n",
       "      <th>3</th>\n",
       "      <td>4</td>\n",
       "      <td>1</td>\n",
       "      <td>1</td>\n",
       "      <td>Futrelle, Mrs. Jacques Heath (Lily May Peel)</td>\n",
       "      <td>female</td>\n",
       "      <td>35.0</td>\n",
       "      <td>1</td>\n",
       "      <td>0</td>\n",
       "      <td>113803</td>\n",
       "      <td>53.1000</td>\n",
       "      <td>C123</td>\n",
       "      <td>S</td>\n",
       "    </tr>\n",
       "    <tr>\n",
       "      <th>4</th>\n",
       "      <td>5</td>\n",
       "      <td>0</td>\n",
       "      <td>3</td>\n",
       "      <td>Allen, Mr. William Henry</td>\n",
       "      <td>male</td>\n",
       "      <td>35.0</td>\n",
       "      <td>0</td>\n",
       "      <td>0</td>\n",
       "      <td>373450</td>\n",
       "      <td>8.0500</td>\n",
       "      <td>NaN</td>\n",
       "      <td>S</td>\n",
       "    </tr>\n",
       "    <tr>\n",
       "      <th>...</th>\n",
       "      <td>...</td>\n",
       "      <td>...</td>\n",
       "      <td>...</td>\n",
       "      <td>...</td>\n",
       "      <td>...</td>\n",
       "      <td>...</td>\n",
       "      <td>...</td>\n",
       "      <td>...</td>\n",
       "      <td>...</td>\n",
       "      <td>...</td>\n",
       "      <td>...</td>\n",
       "      <td>...</td>\n",
       "    </tr>\n",
       "    <tr>\n",
       "      <th>886</th>\n",
       "      <td>887</td>\n",
       "      <td>0</td>\n",
       "      <td>2</td>\n",
       "      <td>Montvila, Rev. Juozas</td>\n",
       "      <td>male</td>\n",
       "      <td>27.0</td>\n",
       "      <td>0</td>\n",
       "      <td>0</td>\n",
       "      <td>211536</td>\n",
       "      <td>13.0000</td>\n",
       "      <td>NaN</td>\n",
       "      <td>S</td>\n",
       "    </tr>\n",
       "    <tr>\n",
       "      <th>887</th>\n",
       "      <td>888</td>\n",
       "      <td>1</td>\n",
       "      <td>1</td>\n",
       "      <td>Graham, Miss. Margaret Edith</td>\n",
       "      <td>female</td>\n",
       "      <td>19.0</td>\n",
       "      <td>0</td>\n",
       "      <td>0</td>\n",
       "      <td>112053</td>\n",
       "      <td>30.0000</td>\n",
       "      <td>B42</td>\n",
       "      <td>S</td>\n",
       "    </tr>\n",
       "    <tr>\n",
       "      <th>888</th>\n",
       "      <td>889</td>\n",
       "      <td>0</td>\n",
       "      <td>3</td>\n",
       "      <td>Johnston, Miss. Catherine Helen \"Carrie\"</td>\n",
       "      <td>female</td>\n",
       "      <td>NaN</td>\n",
       "      <td>1</td>\n",
       "      <td>2</td>\n",
       "      <td>W./C. 6607</td>\n",
       "      <td>23.4500</td>\n",
       "      <td>NaN</td>\n",
       "      <td>S</td>\n",
       "    </tr>\n",
       "    <tr>\n",
       "      <th>889</th>\n",
       "      <td>890</td>\n",
       "      <td>1</td>\n",
       "      <td>1</td>\n",
       "      <td>Behr, Mr. Karl Howell</td>\n",
       "      <td>male</td>\n",
       "      <td>26.0</td>\n",
       "      <td>0</td>\n",
       "      <td>0</td>\n",
       "      <td>111369</td>\n",
       "      <td>30.0000</td>\n",
       "      <td>C148</td>\n",
       "      <td>C</td>\n",
       "    </tr>\n",
       "    <tr>\n",
       "      <th>890</th>\n",
       "      <td>891</td>\n",
       "      <td>0</td>\n",
       "      <td>3</td>\n",
       "      <td>Dooley, Mr. Patrick</td>\n",
       "      <td>male</td>\n",
       "      <td>32.0</td>\n",
       "      <td>0</td>\n",
       "      <td>0</td>\n",
       "      <td>370376</td>\n",
       "      <td>7.7500</td>\n",
       "      <td>NaN</td>\n",
       "      <td>Q</td>\n",
       "    </tr>\n",
       "  </tbody>\n",
       "</table>\n",
       "<p>891 rows × 12 columns</p>\n",
       "</div>"
      ],
      "text/plain": [
       "     PassengerId  Survived  Pclass  \\\n",
       "0              1         0       3   \n",
       "1              2         1       1   \n",
       "2              3         1       3   \n",
       "3              4         1       1   \n",
       "4              5         0       3   \n",
       "..           ...       ...     ...   \n",
       "886          887         0       2   \n",
       "887          888         1       1   \n",
       "888          889         0       3   \n",
       "889          890         1       1   \n",
       "890          891         0       3   \n",
       "\n",
       "                                                  Name     Sex   Age  SibSp  \\\n",
       "0                              Braund, Mr. Owen Harris    male  22.0      1   \n",
       "1    Cumings, Mrs. John Bradley (Florence Briggs Th...  female  38.0      1   \n",
       "2                               Heikkinen, Miss. Laina  female  26.0      0   \n",
       "3         Futrelle, Mrs. Jacques Heath (Lily May Peel)  female  35.0      1   \n",
       "4                             Allen, Mr. William Henry    male  35.0      0   \n",
       "..                                                 ...     ...   ...    ...   \n",
       "886                              Montvila, Rev. Juozas    male  27.0      0   \n",
       "887                       Graham, Miss. Margaret Edith  female  19.0      0   \n",
       "888           Johnston, Miss. Catherine Helen \"Carrie\"  female   NaN      1   \n",
       "889                              Behr, Mr. Karl Howell    male  26.0      0   \n",
       "890                                Dooley, Mr. Patrick    male  32.0      0   \n",
       "\n",
       "     Parch            Ticket     Fare Cabin E mbarked  \n",
       "0        0         A/5 21171   7.2500   NaN         S  \n",
       "1        0          PC 17599  71.2833   C85         C  \n",
       "2        0  STON/O2. 3101282   7.9250   NaN         S  \n",
       "3        0            113803  53.1000  C123         S  \n",
       "4        0            373450   8.0500   NaN         S  \n",
       "..     ...               ...      ...   ...       ...  \n",
       "886      0            211536  13.0000   NaN         S  \n",
       "887      0            112053  30.0000   B42         S  \n",
       "888      2        W./C. 6607  23.4500   NaN         S  \n",
       "889      0            111369  30.0000  C148         C  \n",
       "890      0            370376   7.7500   NaN         Q  \n",
       "\n",
       "[891 rows x 12 columns]"
      ]
     },
     "execution_count": 5,
     "metadata": {},
     "output_type": "execute_result"
    }
   ],
   "source": [
    "titanic"
   ]
  },
  {
   "cell_type": "code",
   "execution_count": 6,
   "id": "a71bfa35",
   "metadata": {
    "scrolled": true
   },
   "outputs": [
    {
     "name": "stdout",
     "output_type": "stream",
     "text": [
      "<class 'pandas.core.frame.DataFrame'>\n",
      "RangeIndex: 891 entries, 0 to 890\n",
      "Data columns (total 12 columns):\n",
      " #   Column       Non-Null Count  Dtype  \n",
      "---  ------       --------------  -----  \n",
      " 0   PassengerId  891 non-null    int64  \n",
      " 1   Survived     891 non-null    int64  \n",
      " 2   Pclass       891 non-null    int64  \n",
      " 3   Name         891 non-null    object \n",
      " 4   Sex          891 non-null    object \n",
      " 5   Age          714 non-null    float64\n",
      " 6   SibSp        891 non-null    int64  \n",
      " 7   Parch        891 non-null    int64  \n",
      " 8   Ticket       891 non-null    object \n",
      " 9   Fare         891 non-null    float64\n",
      " 10  Cabin        204 non-null    object \n",
      " 11  E mbarked    889 non-null    object \n",
      "dtypes: float64(2), int64(5), object(5)\n",
      "memory usage: 83.7+ KB\n"
     ]
    }
   ],
   "source": [
    "titanic.info() #getting information"
   ]
  },
  {
   "cell_type": "code",
   "execution_count": 7,
   "id": "5545526d",
   "metadata": {},
   "outputs": [],
   "source": [
    "titanic.drop(labels=[\"PassengerId\",\"Name\",\"Ticket\",\"Cabin\",\"E mbarked\"], axis=1,inplace=True) #drop Unneccesary columns"
   ]
  },
  {
   "cell_type": "code",
   "execution_count": 8,
   "id": "dfa76112",
   "metadata": {},
   "outputs": [
    {
     "data": {
      "text/html": [
       "<div>\n",
       "<style scoped>\n",
       "    .dataframe tbody tr th:only-of-type {\n",
       "        vertical-align: middle;\n",
       "    }\n",
       "\n",
       "    .dataframe tbody tr th {\n",
       "        vertical-align: top;\n",
       "    }\n",
       "\n",
       "    .dataframe thead th {\n",
       "        text-align: right;\n",
       "    }\n",
       "</style>\n",
       "<table border=\"1\" class=\"dataframe\">\n",
       "  <thead>\n",
       "    <tr style=\"text-align: right;\">\n",
       "      <th></th>\n",
       "      <th>Survived</th>\n",
       "      <th>Pclass</th>\n",
       "      <th>Sex</th>\n",
       "      <th>Age</th>\n",
       "      <th>SibSp</th>\n",
       "      <th>Parch</th>\n",
       "      <th>Fare</th>\n",
       "    </tr>\n",
       "  </thead>\n",
       "  <tbody>\n",
       "    <tr>\n",
       "      <th>0</th>\n",
       "      <td>0</td>\n",
       "      <td>3</td>\n",
       "      <td>male</td>\n",
       "      <td>22.0</td>\n",
       "      <td>1</td>\n",
       "      <td>0</td>\n",
       "      <td>7.2500</td>\n",
       "    </tr>\n",
       "    <tr>\n",
       "      <th>1</th>\n",
       "      <td>1</td>\n",
       "      <td>1</td>\n",
       "      <td>female</td>\n",
       "      <td>38.0</td>\n",
       "      <td>1</td>\n",
       "      <td>0</td>\n",
       "      <td>71.2833</td>\n",
       "    </tr>\n",
       "    <tr>\n",
       "      <th>2</th>\n",
       "      <td>1</td>\n",
       "      <td>3</td>\n",
       "      <td>female</td>\n",
       "      <td>26.0</td>\n",
       "      <td>0</td>\n",
       "      <td>0</td>\n",
       "      <td>7.9250</td>\n",
       "    </tr>\n",
       "    <tr>\n",
       "      <th>3</th>\n",
       "      <td>1</td>\n",
       "      <td>1</td>\n",
       "      <td>female</td>\n",
       "      <td>35.0</td>\n",
       "      <td>1</td>\n",
       "      <td>0</td>\n",
       "      <td>53.1000</td>\n",
       "    </tr>\n",
       "    <tr>\n",
       "      <th>4</th>\n",
       "      <td>0</td>\n",
       "      <td>3</td>\n",
       "      <td>male</td>\n",
       "      <td>35.0</td>\n",
       "      <td>0</td>\n",
       "      <td>0</td>\n",
       "      <td>8.0500</td>\n",
       "    </tr>\n",
       "    <tr>\n",
       "      <th>...</th>\n",
       "      <td>...</td>\n",
       "      <td>...</td>\n",
       "      <td>...</td>\n",
       "      <td>...</td>\n",
       "      <td>...</td>\n",
       "      <td>...</td>\n",
       "      <td>...</td>\n",
       "    </tr>\n",
       "    <tr>\n",
       "      <th>886</th>\n",
       "      <td>0</td>\n",
       "      <td>2</td>\n",
       "      <td>male</td>\n",
       "      <td>27.0</td>\n",
       "      <td>0</td>\n",
       "      <td>0</td>\n",
       "      <td>13.0000</td>\n",
       "    </tr>\n",
       "    <tr>\n",
       "      <th>887</th>\n",
       "      <td>1</td>\n",
       "      <td>1</td>\n",
       "      <td>female</td>\n",
       "      <td>19.0</td>\n",
       "      <td>0</td>\n",
       "      <td>0</td>\n",
       "      <td>30.0000</td>\n",
       "    </tr>\n",
       "    <tr>\n",
       "      <th>888</th>\n",
       "      <td>0</td>\n",
       "      <td>3</td>\n",
       "      <td>female</td>\n",
       "      <td>NaN</td>\n",
       "      <td>1</td>\n",
       "      <td>2</td>\n",
       "      <td>23.4500</td>\n",
       "    </tr>\n",
       "    <tr>\n",
       "      <th>889</th>\n",
       "      <td>1</td>\n",
       "      <td>1</td>\n",
       "      <td>male</td>\n",
       "      <td>26.0</td>\n",
       "      <td>0</td>\n",
       "      <td>0</td>\n",
       "      <td>30.0000</td>\n",
       "    </tr>\n",
       "    <tr>\n",
       "      <th>890</th>\n",
       "      <td>0</td>\n",
       "      <td>3</td>\n",
       "      <td>male</td>\n",
       "      <td>32.0</td>\n",
       "      <td>0</td>\n",
       "      <td>0</td>\n",
       "      <td>7.7500</td>\n",
       "    </tr>\n",
       "  </tbody>\n",
       "</table>\n",
       "<p>891 rows × 7 columns</p>\n",
       "</div>"
      ],
      "text/plain": [
       "     Survived  Pclass     Sex   Age  SibSp  Parch     Fare\n",
       "0           0       3    male  22.0      1      0   7.2500\n",
       "1           1       1  female  38.0      1      0  71.2833\n",
       "2           1       3  female  26.0      0      0   7.9250\n",
       "3           1       1  female  35.0      1      0  53.1000\n",
       "4           0       3    male  35.0      0      0   8.0500\n",
       "..        ...     ...     ...   ...    ...    ...      ...\n",
       "886         0       2    male  27.0      0      0  13.0000\n",
       "887         1       1  female  19.0      0      0  30.0000\n",
       "888         0       3  female   NaN      1      2  23.4500\n",
       "889         1       1    male  26.0      0      0  30.0000\n",
       "890         0       3    male  32.0      0      0   7.7500\n",
       "\n",
       "[891 rows x 7 columns]"
      ]
     },
     "execution_count": 8,
     "metadata": {},
     "output_type": "execute_result"
    }
   ],
   "source": [
    "titanic"
   ]
  },
  {
   "cell_type": "code",
   "execution_count": 9,
   "id": "6f5f6dfc",
   "metadata": {},
   "outputs": [
    {
     "data": {
      "text/plain": [
       "Survived      0\n",
       "Pclass        0\n",
       "Sex           0\n",
       "Age         177\n",
       "SibSp         0\n",
       "Parch         0\n",
       "Fare          0\n",
       "dtype: int64"
      ]
     },
     "execution_count": 9,
     "metadata": {},
     "output_type": "execute_result"
    }
   ],
   "source": [
    "titanic.isnull().sum()  # calculating Null Values"
   ]
  },
  {
   "cell_type": "code",
   "execution_count": 10,
   "id": "8d42a7db",
   "metadata": {},
   "outputs": [],
   "source": [
    "titanic.dropna(subset=['Age'],inplace=True)   #droping null values in Age columns"
   ]
  },
  {
   "cell_type": "code",
   "execution_count": 11,
   "id": "3db0fb3a",
   "metadata": {},
   "outputs": [
    {
     "name": "stdout",
     "output_type": "stream",
     "text": [
      "<class 'pandas.core.frame.DataFrame'>\n",
      "Int64Index: 714 entries, 0 to 890\n",
      "Data columns (total 7 columns):\n",
      " #   Column    Non-Null Count  Dtype  \n",
      "---  ------    --------------  -----  \n",
      " 0   Survived  714 non-null    int64  \n",
      " 1   Pclass    714 non-null    int64  \n",
      " 2   Sex       714 non-null    object \n",
      " 3   Age       714 non-null    float64\n",
      " 4   SibSp     714 non-null    int64  \n",
      " 5   Parch     714 non-null    int64  \n",
      " 6   Fare      714 non-null    float64\n",
      "dtypes: float64(2), int64(4), object(1)\n",
      "memory usage: 44.6+ KB\n"
     ]
    }
   ],
   "source": [
    "titanic.info()"
   ]
  },
  {
   "cell_type": "code",
   "execution_count": 12,
   "id": "90551c24",
   "metadata": {},
   "outputs": [],
   "source": [
    "titanic[\"Sex\"] = titanic[\"Sex\"].map({\"male\":0,\"female\":1})   # converting categotical into Numerical"
   ]
  },
  {
   "cell_type": "code",
   "execution_count": 13,
   "id": "6dfa027b",
   "metadata": {},
   "outputs": [
    {
     "data": {
      "text/html": [
       "<div>\n",
       "<style scoped>\n",
       "    .dataframe tbody tr th:only-of-type {\n",
       "        vertical-align: middle;\n",
       "    }\n",
       "\n",
       "    .dataframe tbody tr th {\n",
       "        vertical-align: top;\n",
       "    }\n",
       "\n",
       "    .dataframe thead th {\n",
       "        text-align: right;\n",
       "    }\n",
       "</style>\n",
       "<table border=\"1\" class=\"dataframe\">\n",
       "  <thead>\n",
       "    <tr style=\"text-align: right;\">\n",
       "      <th></th>\n",
       "      <th>Survived</th>\n",
       "      <th>Pclass</th>\n",
       "      <th>Sex</th>\n",
       "      <th>Age</th>\n",
       "      <th>SibSp</th>\n",
       "      <th>Parch</th>\n",
       "      <th>Fare</th>\n",
       "    </tr>\n",
       "  </thead>\n",
       "  <tbody>\n",
       "    <tr>\n",
       "      <th>0</th>\n",
       "      <td>0</td>\n",
       "      <td>3</td>\n",
       "      <td>0</td>\n",
       "      <td>22.0</td>\n",
       "      <td>1</td>\n",
       "      <td>0</td>\n",
       "      <td>7.2500</td>\n",
       "    </tr>\n",
       "    <tr>\n",
       "      <th>1</th>\n",
       "      <td>1</td>\n",
       "      <td>1</td>\n",
       "      <td>1</td>\n",
       "      <td>38.0</td>\n",
       "      <td>1</td>\n",
       "      <td>0</td>\n",
       "      <td>71.2833</td>\n",
       "    </tr>\n",
       "    <tr>\n",
       "      <th>2</th>\n",
       "      <td>1</td>\n",
       "      <td>3</td>\n",
       "      <td>1</td>\n",
       "      <td>26.0</td>\n",
       "      <td>0</td>\n",
       "      <td>0</td>\n",
       "      <td>7.9250</td>\n",
       "    </tr>\n",
       "    <tr>\n",
       "      <th>3</th>\n",
       "      <td>1</td>\n",
       "      <td>1</td>\n",
       "      <td>1</td>\n",
       "      <td>35.0</td>\n",
       "      <td>1</td>\n",
       "      <td>0</td>\n",
       "      <td>53.1000</td>\n",
       "    </tr>\n",
       "    <tr>\n",
       "      <th>4</th>\n",
       "      <td>0</td>\n",
       "      <td>3</td>\n",
       "      <td>0</td>\n",
       "      <td>35.0</td>\n",
       "      <td>0</td>\n",
       "      <td>0</td>\n",
       "      <td>8.0500</td>\n",
       "    </tr>\n",
       "    <tr>\n",
       "      <th>...</th>\n",
       "      <td>...</td>\n",
       "      <td>...</td>\n",
       "      <td>...</td>\n",
       "      <td>...</td>\n",
       "      <td>...</td>\n",
       "      <td>...</td>\n",
       "      <td>...</td>\n",
       "    </tr>\n",
       "    <tr>\n",
       "      <th>885</th>\n",
       "      <td>0</td>\n",
       "      <td>3</td>\n",
       "      <td>1</td>\n",
       "      <td>39.0</td>\n",
       "      <td>0</td>\n",
       "      <td>5</td>\n",
       "      <td>29.1250</td>\n",
       "    </tr>\n",
       "    <tr>\n",
       "      <th>886</th>\n",
       "      <td>0</td>\n",
       "      <td>2</td>\n",
       "      <td>0</td>\n",
       "      <td>27.0</td>\n",
       "      <td>0</td>\n",
       "      <td>0</td>\n",
       "      <td>13.0000</td>\n",
       "    </tr>\n",
       "    <tr>\n",
       "      <th>887</th>\n",
       "      <td>1</td>\n",
       "      <td>1</td>\n",
       "      <td>1</td>\n",
       "      <td>19.0</td>\n",
       "      <td>0</td>\n",
       "      <td>0</td>\n",
       "      <td>30.0000</td>\n",
       "    </tr>\n",
       "    <tr>\n",
       "      <th>889</th>\n",
       "      <td>1</td>\n",
       "      <td>1</td>\n",
       "      <td>0</td>\n",
       "      <td>26.0</td>\n",
       "      <td>0</td>\n",
       "      <td>0</td>\n",
       "      <td>30.0000</td>\n",
       "    </tr>\n",
       "    <tr>\n",
       "      <th>890</th>\n",
       "      <td>0</td>\n",
       "      <td>3</td>\n",
       "      <td>0</td>\n",
       "      <td>32.0</td>\n",
       "      <td>0</td>\n",
       "      <td>0</td>\n",
       "      <td>7.7500</td>\n",
       "    </tr>\n",
       "  </tbody>\n",
       "</table>\n",
       "<p>714 rows × 7 columns</p>\n",
       "</div>"
      ],
      "text/plain": [
       "     Survived  Pclass  Sex   Age  SibSp  Parch     Fare\n",
       "0           0       3    0  22.0      1      0   7.2500\n",
       "1           1       1    1  38.0      1      0  71.2833\n",
       "2           1       3    1  26.0      0      0   7.9250\n",
       "3           1       1    1  35.0      1      0  53.1000\n",
       "4           0       3    0  35.0      0      0   8.0500\n",
       "..        ...     ...  ...   ...    ...    ...      ...\n",
       "885         0       3    1  39.0      0      5  29.1250\n",
       "886         0       2    0  27.0      0      0  13.0000\n",
       "887         1       1    1  19.0      0      0  30.0000\n",
       "889         1       1    0  26.0      0      0  30.0000\n",
       "890         0       3    0  32.0      0      0   7.7500\n",
       "\n",
       "[714 rows x 7 columns]"
      ]
     },
     "execution_count": 13,
     "metadata": {},
     "output_type": "execute_result"
    }
   ],
   "source": [
    "titanic"
   ]
  },
  {
   "cell_type": "code",
   "execution_count": 14,
   "id": "d8e321b2",
   "metadata": {},
   "outputs": [],
   "source": [
    "X = titanic.drop(labels=\"Survived\",axis = 1)  # seperating independent variables"
   ]
  },
  {
   "cell_type": "code",
   "execution_count": 15,
   "id": "d2597479",
   "metadata": {},
   "outputs": [],
   "source": [
    "y = titanic[\"Survived\"]  #sepearting dependant variable"
   ]
  },
  {
   "cell_type": "code",
   "execution_count": 16,
   "id": "0e648afb",
   "metadata": {},
   "outputs": [],
   "source": [
    "X_train, X_test, Y_train, Y_test = train_test_split(X,y,test_size=.20,random_state=100)   #splitting data for training and testing"
   ]
  },
  {
   "cell_type": "code",
   "execution_count": 17,
   "id": "c4ea6bfb",
   "metadata": {},
   "outputs": [
    {
     "data": {
      "text/html": [
       "<div>\n",
       "<style scoped>\n",
       "    .dataframe tbody tr th:only-of-type {\n",
       "        vertical-align: middle;\n",
       "    }\n",
       "\n",
       "    .dataframe tbody tr th {\n",
       "        vertical-align: top;\n",
       "    }\n",
       "\n",
       "    .dataframe thead th {\n",
       "        text-align: right;\n",
       "    }\n",
       "</style>\n",
       "<table border=\"1\" class=\"dataframe\">\n",
       "  <thead>\n",
       "    <tr style=\"text-align: right;\">\n",
       "      <th></th>\n",
       "      <th>Pclass</th>\n",
       "      <th>Sex</th>\n",
       "      <th>Age</th>\n",
       "      <th>SibSp</th>\n",
       "      <th>Parch</th>\n",
       "      <th>Fare</th>\n",
       "    </tr>\n",
       "  </thead>\n",
       "  <tbody>\n",
       "    <tr>\n",
       "      <th>59</th>\n",
       "      <td>3</td>\n",
       "      <td>0</td>\n",
       "      <td>11.0</td>\n",
       "      <td>5</td>\n",
       "      <td>2</td>\n",
       "      <td>46.9000</td>\n",
       "    </tr>\n",
       "    <tr>\n",
       "      <th>276</th>\n",
       "      <td>3</td>\n",
       "      <td>1</td>\n",
       "      <td>45.0</td>\n",
       "      <td>0</td>\n",
       "      <td>0</td>\n",
       "      <td>7.7500</td>\n",
       "    </tr>\n",
       "    <tr>\n",
       "      <th>850</th>\n",
       "      <td>3</td>\n",
       "      <td>0</td>\n",
       "      <td>4.0</td>\n",
       "      <td>4</td>\n",
       "      <td>2</td>\n",
       "      <td>31.2750</td>\n",
       "    </tr>\n",
       "    <tr>\n",
       "      <th>40</th>\n",
       "      <td>3</td>\n",
       "      <td>1</td>\n",
       "      <td>40.0</td>\n",
       "      <td>1</td>\n",
       "      <td>0</td>\n",
       "      <td>9.4750</td>\n",
       "    </tr>\n",
       "    <tr>\n",
       "      <th>336</th>\n",
       "      <td>1</td>\n",
       "      <td>0</td>\n",
       "      <td>29.0</td>\n",
       "      <td>1</td>\n",
       "      <td>0</td>\n",
       "      <td>66.6000</td>\n",
       "    </tr>\n",
       "    <tr>\n",
       "      <th>...</th>\n",
       "      <td>...</td>\n",
       "      <td>...</td>\n",
       "      <td>...</td>\n",
       "      <td>...</td>\n",
       "      <td>...</td>\n",
       "      <td>...</td>\n",
       "    </tr>\n",
       "    <tr>\n",
       "      <th>726</th>\n",
       "      <td>2</td>\n",
       "      <td>1</td>\n",
       "      <td>30.0</td>\n",
       "      <td>3</td>\n",
       "      <td>0</td>\n",
       "      <td>21.0000</td>\n",
       "    </tr>\n",
       "    <tr>\n",
       "      <th>70</th>\n",
       "      <td>2</td>\n",
       "      <td>0</td>\n",
       "      <td>32.0</td>\n",
       "      <td>0</td>\n",
       "      <td>0</td>\n",
       "      <td>10.5000</td>\n",
       "    </tr>\n",
       "    <tr>\n",
       "      <th>437</th>\n",
       "      <td>2</td>\n",
       "      <td>1</td>\n",
       "      <td>24.0</td>\n",
       "      <td>2</td>\n",
       "      <td>3</td>\n",
       "      <td>18.7500</td>\n",
       "    </tr>\n",
       "    <tr>\n",
       "      <th>102</th>\n",
       "      <td>1</td>\n",
       "      <td>0</td>\n",
       "      <td>21.0</td>\n",
       "      <td>0</td>\n",
       "      <td>1</td>\n",
       "      <td>77.2875</td>\n",
       "    </tr>\n",
       "    <tr>\n",
       "      <th>659</th>\n",
       "      <td>1</td>\n",
       "      <td>0</td>\n",
       "      <td>58.0</td>\n",
       "      <td>0</td>\n",
       "      <td>2</td>\n",
       "      <td>113.2750</td>\n",
       "    </tr>\n",
       "  </tbody>\n",
       "</table>\n",
       "<p>571 rows × 6 columns</p>\n",
       "</div>"
      ],
      "text/plain": [
       "     Pclass  Sex   Age  SibSp  Parch      Fare\n",
       "59        3    0  11.0      5      2   46.9000\n",
       "276       3    1  45.0      0      0    7.7500\n",
       "850       3    0   4.0      4      2   31.2750\n",
       "40        3    1  40.0      1      0    9.4750\n",
       "336       1    0  29.0      1      0   66.6000\n",
       "..      ...  ...   ...    ...    ...       ...\n",
       "726       2    1  30.0      3      0   21.0000\n",
       "70        2    0  32.0      0      0   10.5000\n",
       "437       2    1  24.0      2      3   18.7500\n",
       "102       1    0  21.0      0      1   77.2875\n",
       "659       1    0  58.0      0      2  113.2750\n",
       "\n",
       "[571 rows x 6 columns]"
      ]
     },
     "execution_count": 17,
     "metadata": {},
     "output_type": "execute_result"
    }
   ],
   "source": [
    "X_train"
   ]
  },
  {
   "cell_type": "code",
   "execution_count": 18,
   "id": "aef149e8",
   "metadata": {},
   "outputs": [
    {
     "data": {
      "text/plain": [
       "59     0\n",
       "276    0\n",
       "850    0\n",
       "40     0\n",
       "336    0\n",
       "      ..\n",
       "726    1\n",
       "70     0\n",
       "437    1\n",
       "102    0\n",
       "659    0\n",
       "Name: Survived, Length: 571, dtype: int64"
      ]
     },
     "execution_count": 18,
     "metadata": {},
     "output_type": "execute_result"
    }
   ],
   "source": [
    "Y_train"
   ]
  },
  {
   "cell_type": "markdown",
   "id": "52e22bad",
   "metadata": {},
   "source": [
    "## First Check with base Model"
   ]
  },
  {
   "cell_type": "code",
   "execution_count": 19,
   "id": "d86b40db",
   "metadata": {},
   "outputs": [],
   "source": [
    "Model = DecisionTreeClassifier()   #initializing Base model"
   ]
  },
  {
   "cell_type": "code",
   "execution_count": 20,
   "id": "9685cb2c",
   "metadata": {},
   "outputs": [
    {
     "data": {
      "text/plain": [
       "DecisionTreeClassifier()"
      ]
     },
     "execution_count": 20,
     "metadata": {},
     "output_type": "execute_result"
    }
   ],
   "source": [
    "Model.fit(X_train,Y_train)"
   ]
  },
  {
   "cell_type": "code",
   "execution_count": 21,
   "id": "482393c4",
   "metadata": {},
   "outputs": [],
   "source": [
    "from sklearn import tree"
   ]
  },
  {
   "cell_type": "code",
   "execution_count": 22,
   "id": "2f634ae0",
   "metadata": {},
   "outputs": [
    {
     "data": {
      "text/plain": [
       "[Text(578.2163433056872, 1058.5894736842106, 'X[1] <= 0.5\\ngini = 0.488\\nsamples = 571\\nvalue = [330, 241]'),\n",
       " Text(211.00614632701422, 1001.3684210526317, 'X[2] <= 6.5\\ngini = 0.344\\nsamples = 362\\nvalue = [282, 80]'),\n",
       " Text(21.156398104265403, 944.1473684210526, 'X[3] <= 2.5\\ngini = 0.408\\nsamples = 21\\nvalue = [6, 15]'),\n",
       " Text(10.578199052132701, 886.9263157894737, 'gini = 0.0\\nsamples = 14\\nvalue = [0, 14]'),\n",
       " Text(31.734597156398102, 886.9263157894737, 'X[5] <= 31.331\\ngini = 0.245\\nsamples = 7\\nvalue = [6, 1]'),\n",
       " Text(21.156398104265403, 829.7052631578947, 'gini = 0.0\\nsamples = 4\\nvalue = [4, 0]'),\n",
       " Text(42.312796208530806, 829.7052631578947, 'X[2] <= 2.0\\ngini = 0.444\\nsamples = 3\\nvalue = [2, 1]'),\n",
       " Text(31.734597156398102, 772.4842105263158, 'gini = 0.0\\nsamples = 2\\nvalue = [2, 0]'),\n",
       " Text(52.89099526066351, 772.4842105263158, 'gini = 0.0\\nsamples = 1\\nvalue = [0, 1]'),\n",
       " Text(400.85589454976304, 944.1473684210526, 'X[0] <= 1.5\\ngini = 0.309\\nsamples = 341\\nvalue = [276, 65]'),\n",
       " Text(187.76303317535545, 886.9263157894737, 'X[2] <= 53.0\\ngini = 0.49\\nsamples = 77\\nvalue = [44, 33]'),\n",
       " Text(132.22748815165878, 829.7052631578947, 'X[5] <= 37.0\\ngini = 0.499\\nsamples = 63\\nvalue = [33, 30]'),\n",
       " Text(74.04739336492891, 772.4842105263158, 'X[5] <= 15.644\\ngini = 0.463\\nsamples = 22\\nvalue = [8, 14]'),\n",
       " Text(63.469194312796205, 715.2631578947369, 'gini = 0.0\\nsamples = 3\\nvalue = [3, 0]'),\n",
       " Text(84.62559241706161, 715.2631578947369, 'X[4] <= 0.5\\ngini = 0.388\\nsamples = 19\\nvalue = [5, 14]'),\n",
       " Text(74.04739336492891, 658.042105263158, 'X[5] <= 27.15\\ngini = 0.346\\nsamples = 18\\nvalue = [4, 14]'),\n",
       " Text(42.312796208530806, 600.821052631579, 'X[2] <= 43.5\\ngini = 0.18\\nsamples = 10\\nvalue = [1, 9]'),\n",
       " Text(31.734597156398102, 543.6, 'gini = 0.0\\nsamples = 6\\nvalue = [0, 6]'),\n",
       " Text(52.89099526066351, 543.6, 'X[2] <= 46.5\\ngini = 0.375\\nsamples = 4\\nvalue = [1, 3]'),\n",
       " Text(42.312796208530806, 486.3789473684211, 'gini = 0.5\\nsamples = 2\\nvalue = [1, 1]'),\n",
       " Text(63.469194312796205, 486.3789473684211, 'gini = 0.0\\nsamples = 2\\nvalue = [0, 2]'),\n",
       " Text(105.78199052132702, 600.821052631579, 'X[5] <= 30.25\\ngini = 0.469\\nsamples = 8\\nvalue = [3, 5]'),\n",
       " Text(95.20379146919431, 543.6, 'X[2] <= 27.5\\ngini = 0.375\\nsamples = 4\\nvalue = [3, 1]'),\n",
       " Text(84.62559241706161, 486.3789473684211, 'gini = 0.0\\nsamples = 1\\nvalue = [0, 1]'),\n",
       " Text(105.78199052132702, 486.3789473684211, 'gini = 0.0\\nsamples = 3\\nvalue = [3, 0]'),\n",
       " Text(116.36018957345972, 543.6, 'gini = 0.0\\nsamples = 4\\nvalue = [0, 4]'),\n",
       " Text(95.20379146919431, 658.042105263158, 'gini = 0.0\\nsamples = 1\\nvalue = [1, 0]'),\n",
       " Text(190.40758293838863, 772.4842105263158, 'X[5] <= 387.665\\ngini = 0.476\\nsamples = 41\\nvalue = [25, 16]'),\n",
       " Text(179.82938388625593, 715.2631578947369, 'X[5] <= 134.642\\ngini = 0.46\\nsamples = 39\\nvalue = [25, 14]'),\n",
       " Text(169.25118483412322, 658.042105263158, 'X[5] <= 52.277\\ngini = 0.484\\nsamples = 34\\nvalue = [20, 14]'),\n",
       " Text(148.09478672985782, 600.821052631579, 'X[2] <= 47.5\\ngini = 0.219\\nsamples = 8\\nvalue = [7, 1]'),\n",
       " Text(137.5165876777251, 543.6, 'gini = 0.0\\nsamples = 7\\nvalue = [7, 0]'),\n",
       " Text(158.67298578199052, 543.6, 'gini = 0.0\\nsamples = 1\\nvalue = [0, 1]'),\n",
       " Text(190.40758293838863, 600.821052631579, 'X[4] <= 1.5\\ngini = 0.5\\nsamples = 26\\nvalue = [13, 13]'),\n",
       " Text(179.82938388625593, 543.6, 'X[2] <= 22.0\\ngini = 0.497\\nsamples = 24\\nvalue = [13, 11]'),\n",
       " Text(169.25118483412322, 486.3789473684211, 'gini = 0.0\\nsamples = 3\\nvalue = [3, 0]'),\n",
       " Text(190.40758293838863, 486.3789473684211, 'X[2] <= 27.5\\ngini = 0.499\\nsamples = 21\\nvalue = [10, 11]'),\n",
       " Text(163.96208530805688, 429.1578947368421, 'X[2] <= 24.5\\ngini = 0.278\\nsamples = 6\\nvalue = [1, 5]'),\n",
       " Text(153.38388625592418, 371.93684210526317, 'X[2] <= 23.5\\ngini = 0.5\\nsamples = 2\\nvalue = [1, 1]'),\n",
       " Text(142.80568720379148, 314.71578947368425, 'gini = 0.0\\nsamples = 1\\nvalue = [0, 1]'),\n",
       " Text(163.96208530805688, 314.71578947368425, 'gini = 0.0\\nsamples = 1\\nvalue = [1, 0]'),\n",
       " Text(174.54028436018956, 371.93684210526317, 'gini = 0.0\\nsamples = 4\\nvalue = [0, 4]'),\n",
       " Text(216.85308056872037, 429.1578947368421, 'X[5] <= 59.087\\ngini = 0.48\\nsamples = 15\\nvalue = [9, 6]'),\n",
       " Text(195.69668246445497, 371.93684210526317, 'X[2] <= 49.5\\ngini = 0.375\\nsamples = 4\\nvalue = [1, 3]'),\n",
       " Text(185.11848341232226, 314.71578947368425, 'gini = 0.0\\nsamples = 3\\nvalue = [0, 3]'),\n",
       " Text(206.27488151658767, 314.71578947368425, 'gini = 0.0\\nsamples = 1\\nvalue = [1, 0]'),\n",
       " Text(238.00947867298578, 371.93684210526317, 'X[5] <= 86.29\\ngini = 0.397\\nsamples = 11\\nvalue = [8, 3]'),\n",
       " Text(227.43127962085308, 314.71578947368425, 'gini = 0.0\\nsamples = 6\\nvalue = [6, 0]'),\n",
       " Text(248.58767772511848, 314.71578947368425, 'X[5] <= 98.213\\ngini = 0.48\\nsamples = 5\\nvalue = [2, 3]'),\n",
       " Text(238.00947867298578, 257.4947368421052, 'gini = 0.0\\nsamples = 2\\nvalue = [0, 2]'),\n",
       " Text(259.1658767772512, 257.4947368421052, 'X[3] <= 1.5\\ngini = 0.444\\nsamples = 3\\nvalue = [2, 1]'),\n",
       " Text(248.58767772511848, 200.2736842105263, 'gini = 0.0\\nsamples = 2\\nvalue = [2, 0]'),\n",
       " Text(269.74407582938386, 200.2736842105263, 'gini = 0.0\\nsamples = 1\\nvalue = [0, 1]'),\n",
       " Text(200.98578199052133, 543.6, 'gini = 0.0\\nsamples = 2\\nvalue = [0, 2]'),\n",
       " Text(190.40758293838863, 658.042105263158, 'gini = 0.0\\nsamples = 5\\nvalue = [5, 0]'),\n",
       " Text(200.98578199052133, 715.2631578947369, 'gini = 0.0\\nsamples = 2\\nvalue = [0, 2]'),\n",
       " Text(243.29857819905214, 829.7052631578947, 'X[2] <= 75.5\\ngini = 0.337\\nsamples = 14\\nvalue = [11, 3]'),\n",
       " Text(232.72037914691944, 772.4842105263158, 'X[5] <= 35.077\\ngini = 0.26\\nsamples = 13\\nvalue = [11, 2]'),\n",
       " Text(222.14218009478674, 715.2631578947369, 'gini = 0.0\\nsamples = 8\\nvalue = [8, 0]'),\n",
       " Text(243.29857819905214, 715.2631578947369, 'X[5] <= 43.681\\ngini = 0.48\\nsamples = 5\\nvalue = [3, 2]'),\n",
       " Text(232.72037914691944, 658.042105263158, 'gini = 0.0\\nsamples = 1\\nvalue = [0, 1]'),\n",
       " Text(253.87677725118482, 658.042105263158, 'X[2] <= 59.0\\ngini = 0.375\\nsamples = 4\\nvalue = [3, 1]'),\n",
       " Text(243.29857819905214, 600.821052631579, 'gini = 0.0\\nsamples = 2\\nvalue = [2, 0]'),\n",
       " Text(264.45497630331755, 600.821052631579, 'X[5] <= 75.1\\ngini = 0.5\\nsamples = 2\\nvalue = [1, 1]'),\n",
       " Text(253.87677725118482, 543.6, 'gini = 0.0\\nsamples = 1\\nvalue = [1, 0]'),\n",
       " Text(275.0331753554502, 543.6, 'gini = 0.0\\nsamples = 1\\nvalue = [0, 1]'),\n",
       " Text(253.87677725118482, 772.4842105263158, 'gini = 0.0\\nsamples = 1\\nvalue = [0, 1]'),\n",
       " Text(613.9487559241707, 886.9263157894737, 'X[2] <= 32.25\\ngini = 0.213\\nsamples = 264\\nvalue = [232, 32]'),\n",
       " Text(519.1581753554502, 829.7052631578947, 'X[3] <= 1.5\\ngini = 0.248\\nsamples = 179\\nvalue = [153, 26]'),\n",
       " Text(508.57997630331755, 772.4842105263158, 'X[2] <= 10.0\\ngini = 0.271\\nsamples = 161\\nvalue = [135, 26]'),\n",
       " Text(498.0017772511848, 715.2631578947369, 'gini = 0.0\\nsamples = 2\\nvalue = [0, 2]'),\n",
       " Text(519.1581753554502, 715.2631578947369, 'X[2] <= 30.75\\ngini = 0.256\\nsamples = 159\\nvalue = [135, 24]'),\n",
       " Text(398.335308056872, 658.042105263158, 'X[0] <= 2.5\\ngini = 0.23\\nsamples = 143\\nvalue = [124, 19]'),\n",
       " Text(331.8909952606635, 600.821052631579, 'X[2] <= 20.0\\ngini = 0.067\\nsamples = 29\\nvalue = [28, 1]'),\n",
       " Text(321.3127962085308, 543.6, 'X[2] <= 18.5\\ngini = 0.278\\nsamples = 6\\nvalue = [5, 1]'),\n",
       " Text(310.7345971563981, 486.3789473684211, 'gini = 0.0\\nsamples = 4\\nvalue = [4, 0]'),\n",
       " Text(331.8909952606635, 486.3789473684211, 'gini = 0.5\\nsamples = 2\\nvalue = [1, 1]'),\n",
       " Text(342.4691943127962, 543.6, 'gini = 0.0\\nsamples = 23\\nvalue = [23, 0]'),\n",
       " Text(464.7796208530806, 600.821052631579, 'X[5] <= 9.492\\ngini = 0.266\\nsamples = 114\\nvalue = [96, 18]'),\n",
       " Text(374.2037914691943, 543.6, 'X[5] <= 2.006\\ngini = 0.227\\nsamples = 92\\nvalue = [80, 12]'),\n",
       " Text(353.0473933649289, 486.3789473684211, 'X[2] <= 22.0\\ngini = 0.5\\nsamples = 2\\nvalue = [1, 1]'),\n",
       " Text(342.4691943127962, 429.1578947368421, 'gini = 0.0\\nsamples = 1\\nvalue = [1, 0]'),\n",
       " Text(363.6255924170616, 429.1578947368421, 'gini = 0.0\\nsamples = 1\\nvalue = [0, 1]'),\n",
       " Text(395.3601895734597, 486.3789473684211, 'X[5] <= 8.104\\ngini = 0.215\\nsamples = 90\\nvalue = [79, 11]'),\n",
       " Text(384.78199052132703, 429.1578947368421, 'X[2] <= 20.25\\ngini = 0.242\\nsamples = 78\\nvalue = [67, 11]'),\n",
       " Text(322.6350710900474, 371.93684210526317, 'X[5] <= 7.91\\ngini = 0.34\\nsamples = 23\\nvalue = [18, 5]'),\n",
       " Text(290.90047393364927, 314.71578947368425, 'X[2] <= 19.5\\ngini = 0.124\\nsamples = 15\\nvalue = [14, 1]'),\n",
       " Text(280.3222748815166, 257.4947368421052, 'gini = 0.0\\nsamples = 11\\nvalue = [11, 0]'),\n",
       " Text(301.478672985782, 257.4947368421052, 'X[5] <= 7.542\\ngini = 0.375\\nsamples = 4\\nvalue = [3, 1]'),\n",
       " Text(290.90047393364927, 200.2736842105263, 'X[5] <= 5.621\\ngini = 0.5\\nsamples = 2\\nvalue = [1, 1]'),\n",
       " Text(280.3222748815166, 143.0526315789474, 'gini = 0.0\\nsamples = 1\\nvalue = [1, 0]'),\n",
       " Text(301.478672985782, 143.0526315789474, 'gini = 0.0\\nsamples = 1\\nvalue = [0, 1]'),\n",
       " Text(312.0568720379147, 200.2736842105263, 'gini = 0.0\\nsamples = 2\\nvalue = [2, 0]'),\n",
       " Text(354.3696682464455, 314.71578947368425, 'X[3] <= 0.5\\ngini = 0.5\\nsamples = 8\\nvalue = [4, 4]'),\n",
       " Text(343.7914691943128, 257.4947368421052, 'X[2] <= 19.5\\ngini = 0.49\\nsamples = 7\\nvalue = [4, 3]'),\n",
       " Text(333.2132701421801, 200.2736842105263, 'X[2] <= 17.0\\ngini = 0.48\\nsamples = 5\\nvalue = [2, 3]'),\n",
       " Text(322.6350710900474, 143.0526315789474, 'gini = 0.5\\nsamples = 2\\nvalue = [1, 1]'),\n",
       " Text(343.7914691943128, 143.0526315789474, 'X[2] <= 18.5\\ngini = 0.444\\nsamples = 3\\nvalue = [1, 2]'),\n",
       " Text(333.2132701421801, 85.83157894736848, 'gini = 0.0\\nsamples = 1\\nvalue = [0, 1]'),\n",
       " Text(354.3696682464455, 85.83157894736848, 'gini = 0.5\\nsamples = 2\\nvalue = [1, 1]'),\n",
       " Text(354.3696682464455, 200.2736842105263, 'gini = 0.0\\nsamples = 2\\nvalue = [2, 0]'),\n",
       " Text(364.9478672985782, 257.4947368421052, 'gini = 0.0\\nsamples = 1\\nvalue = [0, 1]'),\n",
       " Text(446.92890995260666, 371.93684210526317, 'X[5] <= 7.227\\ngini = 0.194\\nsamples = 55\\nvalue = [49, 6]'),\n",
       " Text(396.6824644549763, 314.71578947368425, 'X[5] <= 7.133\\ngini = 0.408\\nsamples = 7\\nvalue = [5, 2]'),\n",
       " Text(386.1042654028436, 257.4947368421052, 'gini = 0.0\\nsamples = 4\\nvalue = [4, 0]'),\n",
       " Text(407.26066350710903, 257.4947368421052, 'X[2] <= 27.0\\ngini = 0.444\\nsamples = 3\\nvalue = [1, 2]'),\n",
       " Text(396.6824644549763, 200.2736842105263, 'gini = 0.0\\nsamples = 2\\nvalue = [0, 2]'),\n",
       " Text(417.8388625592417, 200.2736842105263, 'gini = 0.0\\nsamples = 1\\nvalue = [1, 0]'),\n",
       " Text(497.17535545023696, 314.71578947368425, 'X[2] <= 28.5\\ngini = 0.153\\nsamples = 48\\nvalue = [44, 4]'),\n",
       " Text(460.1516587677725, 257.4947368421052, 'X[3] <= 0.5\\ngini = 0.097\\nsamples = 39\\nvalue = [37, 2]'),\n",
       " Text(438.9952606635071, 200.2736842105263, 'X[2] <= 21.5\\ngini = 0.054\\nsamples = 36\\nvalue = [35, 1]'),\n",
       " Text(428.4170616113744, 143.0526315789474, 'X[5] <= 7.798\\ngini = 0.198\\nsamples = 9\\nvalue = [8, 1]'),\n",
       " Text(417.8388625592417, 85.83157894736848, 'X[5] <= 7.765\\ngini = 0.375\\nsamples = 4\\nvalue = [3, 1]'),\n",
       " Text(407.26066350710903, 28.610526315789457, 'gini = 0.0\\nsamples = 3\\nvalue = [3, 0]'),\n",
       " Text(428.4170616113744, 28.610526315789457, 'gini = 0.0\\nsamples = 1\\nvalue = [0, 1]'),\n",
       " Text(438.9952606635071, 85.83157894736848, 'gini = 0.0\\nsamples = 5\\nvalue = [5, 0]'),\n",
       " Text(449.5734597156398, 143.0526315789474, 'gini = 0.0\\nsamples = 27\\nvalue = [27, 0]'),\n",
       " Text(481.3080568720379, 200.2736842105263, 'X[2] <= 23.5\\ngini = 0.444\\nsamples = 3\\nvalue = [2, 1]'),\n",
       " Text(470.7298578199052, 143.0526315789474, 'gini = 0.0\\nsamples = 1\\nvalue = [1, 0]'),\n",
       " Text(491.8862559241706, 143.0526315789474, 'gini = 0.5\\nsamples = 2\\nvalue = [1, 1]'),\n",
       " Text(534.1990521327015, 257.4947368421052, 'X[2] <= 29.5\\ngini = 0.346\\nsamples = 9\\nvalue = [7, 2]'),\n",
       " Text(523.6208530805687, 200.2736842105263, 'X[5] <= 7.763\\ngini = 0.444\\nsamples = 3\\nvalue = [1, 2]'),\n",
       " Text(513.042654028436, 143.0526315789474, 'gini = 0.0\\nsamples = 1\\nvalue = [0, 1]'),\n",
       " Text(534.1990521327015, 143.0526315789474, 'X[5] <= 7.835\\ngini = 0.5\\nsamples = 2\\nvalue = [1, 1]'),\n",
       " Text(523.6208530805687, 85.83157894736848, 'gini = 0.0\\nsamples = 1\\nvalue = [1, 0]'),\n",
       " Text(544.7772511848341, 85.83157894736848, 'gini = 0.0\\nsamples = 1\\nvalue = [0, 1]'),\n",
       " Text(544.7772511848341, 200.2736842105263, 'gini = 0.0\\nsamples = 6\\nvalue = [6, 0]'),\n",
       " Text(405.93838862559244, 429.1578947368421, 'gini = 0.0\\nsamples = 12\\nvalue = [12, 0]'),\n",
       " Text(555.3554502369668, 543.6, 'X[2] <= 28.75\\ngini = 0.397\\nsamples = 22\\nvalue = [16, 6]'),\n",
       " Text(534.1990521327015, 486.3789473684211, 'X[5] <= 10.706\\ngini = 0.332\\nsamples = 19\\nvalue = [15, 4]'),\n",
       " Text(523.6208530805687, 429.1578947368421, 'gini = 0.0\\nsamples = 4\\nvalue = [4, 0]'),\n",
       " Text(544.7772511848341, 429.1578947368421, 'X[5] <= 12.848\\ngini = 0.391\\nsamples = 15\\nvalue = [11, 4]'),\n",
       " Text(534.1990521327015, 371.93684210526317, 'gini = 0.0\\nsamples = 1\\nvalue = [0, 1]'),\n",
       " Text(555.3554502369668, 371.93684210526317, 'X[2] <= 19.5\\ngini = 0.337\\nsamples = 14\\nvalue = [11, 3]'),\n",
       " Text(544.7772511848341, 314.71578947368425, 'gini = 0.0\\nsamples = 4\\nvalue = [4, 0]'),\n",
       " Text(565.9336492890995, 314.71578947368425, 'X[2] <= 20.5\\ngini = 0.42\\nsamples = 10\\nvalue = [7, 3]'),\n",
       " Text(555.3554502369668, 257.4947368421052, 'gini = 0.0\\nsamples = 1\\nvalue = [0, 1]'),\n",
       " Text(576.5118483412323, 257.4947368421052, 'X[5] <= 18.294\\ngini = 0.346\\nsamples = 9\\nvalue = [7, 2]'),\n",
       " Text(565.9336492890995, 200.2736842105263, 'gini = 0.0\\nsamples = 5\\nvalue = [5, 0]'),\n",
       " Text(587.0900473933649, 200.2736842105263, 'X[3] <= 0.5\\ngini = 0.5\\nsamples = 4\\nvalue = [2, 2]'),\n",
       " Text(576.5118483412323, 143.0526315789474, 'X[2] <= 27.0\\ngini = 0.444\\nsamples = 3\\nvalue = [1, 2]'),\n",
       " Text(565.9336492890995, 85.83157894736848, 'gini = 0.0\\nsamples = 2\\nvalue = [0, 2]'),\n",
       " Text(587.0900473933649, 85.83157894736848, 'gini = 0.0\\nsamples = 1\\nvalue = [1, 0]'),\n",
       " Text(597.6682464454976, 143.0526315789474, 'gini = 0.0\\nsamples = 1\\nvalue = [1, 0]'),\n",
       " Text(576.5118483412323, 486.3789473684211, 'X[5] <= 12.8\\ngini = 0.444\\nsamples = 3\\nvalue = [1, 2]'),\n",
       " Text(565.9336492890995, 429.1578947368421, 'gini = 0.0\\nsamples = 2\\nvalue = [0, 2]'),\n",
       " Text(587.0900473933649, 429.1578947368421, 'gini = 0.0\\nsamples = 1\\nvalue = [1, 0]'),\n",
       " Text(639.9810426540284, 658.042105263158, 'X[5] <= 7.91\\ngini = 0.43\\nsamples = 16\\nvalue = [11, 5]'),\n",
       " Text(629.4028436018957, 600.821052631579, 'gini = 0.0\\nsamples = 4\\nvalue = [4, 0]'),\n",
       " Text(650.5592417061612, 600.821052631579, 'X[4] <= 0.5\\ngini = 0.486\\nsamples = 12\\nvalue = [7, 5]'),\n",
       " Text(639.9810426540284, 543.6, 'X[5] <= 20.925\\ngini = 0.5\\nsamples = 10\\nvalue = [5, 5]'),\n",
       " Text(629.4028436018957, 486.3789473684211, 'X[2] <= 31.5\\ngini = 0.469\\nsamples = 8\\nvalue = [5, 3]'),\n",
       " Text(608.2464454976304, 429.1578947368421, 'X[5] <= 9.213\\ngini = 0.444\\nsamples = 3\\nvalue = [1, 2]'),\n",
       " Text(597.6682464454976, 371.93684210526317, 'gini = 0.0\\nsamples = 1\\nvalue = [0, 1]'),\n",
       " Text(618.824644549763, 371.93684210526317, 'X[5] <= 11.75\\ngini = 0.5\\nsamples = 2\\nvalue = [1, 1]'),\n",
       " Text(608.2464454976304, 314.71578947368425, 'gini = 0.0\\nsamples = 1\\nvalue = [1, 0]'),\n",
       " Text(629.4028436018957, 314.71578947368425, 'gini = 0.0\\nsamples = 1\\nvalue = [0, 1]'),\n",
       " Text(650.5592417061612, 429.1578947368421, 'X[5] <= 7.988\\ngini = 0.32\\nsamples = 5\\nvalue = [4, 1]'),\n",
       " Text(639.9810426540284, 371.93684210526317, 'gini = 0.0\\nsamples = 2\\nvalue = [2, 0]'),\n",
       " Text(661.1374407582938, 371.93684210526317, 'X[5] <= 9.275\\ngini = 0.444\\nsamples = 3\\nvalue = [2, 1]'),\n",
       " Text(650.5592417061612, 314.71578947368425, 'gini = 0.0\\nsamples = 1\\nvalue = [0, 1]'),\n",
       " Text(671.7156398104265, 314.71578947368425, 'gini = 0.0\\nsamples = 2\\nvalue = [2, 0]'),\n",
       " Text(650.5592417061612, 486.3789473684211, 'gini = 0.0\\nsamples = 2\\nvalue = [0, 2]'),\n",
       " Text(661.1374407582938, 543.6, 'gini = 0.0\\nsamples = 2\\nvalue = [2, 0]'),\n",
       " Text(529.736374407583, 772.4842105263158, 'gini = 0.0\\nsamples = 18\\nvalue = [18, 0]'),\n",
       " Text(708.739336492891, 829.7052631578947, 'X[5] <= 7.91\\ngini = 0.131\\nsamples = 85\\nvalue = [79, 6]'),\n",
       " Text(698.1611374407582, 772.4842105263158, 'gini = 0.0\\nsamples = 26\\nvalue = [26, 0]'),\n",
       " Text(719.3175355450237, 772.4842105263158, 'X[5] <= 7.988\\ngini = 0.183\\nsamples = 59\\nvalue = [53, 6]'),\n",
       " Text(692.872037914692, 715.2631578947369, 'X[2] <= 41.5\\ngini = 0.444\\nsamples = 3\\nvalue = [1, 2]'),\n",
       " Text(682.2938388625593, 658.042105263158, 'gini = 0.5\\nsamples = 2\\nvalue = [1, 1]'),\n",
       " Text(703.4502369668246, 658.042105263158, 'gini = 0.0\\nsamples = 1\\nvalue = [0, 1]'),\n",
       " Text(745.7630331753554, 715.2631578947369, 'X[2] <= 61.0\\ngini = 0.133\\nsamples = 56\\nvalue = [52, 4]'),\n",
       " Text(724.6066350710901, 658.042105263158, 'X[5] <= 13.25\\ngini = 0.107\\nsamples = 53\\nvalue = [50, 3]'),\n",
       " Text(714.0284360189573, 600.821052631579, 'X[5] <= 12.938\\ngini = 0.175\\nsamples = 31\\nvalue = [28, 3]'),\n",
       " Text(682.2938388625593, 543.6, 'X[2] <= 44.5\\ngini = 0.091\\nsamples = 21\\nvalue = [20, 1]'),\n",
       " Text(671.7156398104265, 486.3789473684211, 'gini = 0.0\\nsamples = 14\\nvalue = [14, 0]'),\n",
       " Text(692.872037914692, 486.3789473684211, 'X[2] <= 46.0\\ngini = 0.245\\nsamples = 7\\nvalue = [6, 1]'),\n",
       " Text(682.2938388625593, 429.1578947368421, 'gini = 0.0\\nsamples = 1\\nvalue = [0, 1]'),\n",
       " Text(703.4502369668246, 429.1578947368421, 'gini = 0.0\\nsamples = 6\\nvalue = [6, 0]'),\n",
       " Text(745.7630331753554, 543.6, 'X[2] <= 45.0\\ngini = 0.32\\nsamples = 10\\nvalue = [8, 2]'),\n",
       " Text(735.1848341232228, 486.3789473684211, 'X[2] <= 40.5\\ngini = 0.408\\nsamples = 7\\nvalue = [5, 2]'),\n",
       " Text(724.6066350710901, 429.1578947368421, 'X[2] <= 35.0\\ngini = 0.32\\nsamples = 5\\nvalue = [4, 1]'),\n",
       " Text(714.0284360189573, 371.93684210526317, 'gini = 0.444\\nsamples = 3\\nvalue = [2, 1]'),\n",
       " Text(735.1848341232228, 371.93684210526317, 'gini = 0.0\\nsamples = 2\\nvalue = [2, 0]'),\n",
       " Text(745.7630331753554, 429.1578947368421, 'gini = 0.5\\nsamples = 2\\nvalue = [1, 1]'),\n",
       " Text(756.3412322274881, 486.3789473684211, 'gini = 0.0\\nsamples = 3\\nvalue = [3, 0]'),\n",
       " Text(735.1848341232228, 600.821052631579, 'gini = 0.0\\nsamples = 22\\nvalue = [22, 0]'),\n",
       " Text(766.9194312796209, 658.042105263158, 'X[2] <= 64.0\\ngini = 0.444\\nsamples = 3\\nvalue = [2, 1]'),\n",
       " Text(756.3412322274881, 600.821052631579, 'gini = 0.0\\nsamples = 1\\nvalue = [0, 1]'),\n",
       " Text(777.4976303317535, 600.821052631579, 'gini = 0.0\\nsamples = 2\\nvalue = [2, 0]'),\n",
       " Text(945.4265402843602, 1001.3684210526317, 'X[0] <= 2.5\\ngini = 0.354\\nsamples = 209\\nvalue = [48, 161]'),\n",
       " Text(864.7677725118483, 944.1473684210526, 'X[2] <= 2.5\\ngini = 0.1\\nsamples = 132\\nvalue = [7, 125]'),\n",
       " Text(843.611374407583, 886.9263157894737, 'X[0] <= 1.5\\ngini = 0.5\\nsamples = 2\\nvalue = [1, 1]'),\n",
       " Text(833.0331753554502, 829.7052631578947, 'gini = 0.0\\nsamples = 1\\nvalue = [1, 0]'),\n",
       " Text(854.1895734597157, 829.7052631578947, 'gini = 0.0\\nsamples = 1\\nvalue = [0, 1]'),\n",
       " Text(885.9241706161138, 886.9263157894737, 'X[5] <= 29.356\\ngini = 0.088\\nsamples = 130\\nvalue = [6, 124]'),\n",
       " Text(875.345971563981, 829.7052631578947, 'X[5] <= 28.231\\ngini = 0.198\\nsamples = 54\\nvalue = [6, 48]'),\n",
       " Text(864.7677725118483, 772.4842105263158, 'X[2] <= 56.0\\ngini = 0.171\\nsamples = 53\\nvalue = [5, 48]'),\n",
       " Text(835.6777251184834, 715.2631578947369, 'X[3] <= 0.5\\ngini = 0.145\\nsamples = 51\\nvalue = [4, 47]'),\n",
       " Text(809.2322274881517, 658.042105263158, 'X[2] <= 24.5\\ngini = 0.057\\nsamples = 34\\nvalue = [1, 33]'),\n",
       " Text(798.654028436019, 600.821052631579, 'X[2] <= 23.5\\ngini = 0.219\\nsamples = 8\\nvalue = [1, 7]'),\n",
       " Text(788.0758293838862, 543.6, 'gini = 0.0\\nsamples = 5\\nvalue = [0, 5]'),\n",
       " Text(809.2322274881517, 543.6, 'X[4] <= 1.0\\ngini = 0.444\\nsamples = 3\\nvalue = [1, 2]'),\n",
       " Text(798.654028436019, 486.3789473684211, 'gini = 0.5\\nsamples = 2\\nvalue = [1, 1]'),\n",
       " Text(819.8104265402843, 486.3789473684211, 'gini = 0.0\\nsamples = 1\\nvalue = [0, 1]'),\n",
       " Text(819.8104265402843, 600.821052631579, 'gini = 0.0\\nsamples = 26\\nvalue = [0, 26]'),\n",
       " Text(862.1232227488151, 658.042105263158, 'X[2] <= 25.0\\ngini = 0.291\\nsamples = 17\\nvalue = [3, 14]'),\n",
       " Text(851.5450236966825, 600.821052631579, 'gini = 0.0\\nsamples = 5\\nvalue = [0, 5]'),\n",
       " Text(872.7014218009479, 600.821052631579, 'X[2] <= 27.5\\ngini = 0.375\\nsamples = 12\\nvalue = [3, 9]'),\n",
       " Text(851.5450236966825, 543.6, 'X[5] <= 17.429\\ngini = 0.444\\nsamples = 3\\nvalue = [2, 1]'),\n",
       " Text(840.9668246445498, 486.3789473684211, 'gini = 0.0\\nsamples = 1\\nvalue = [0, 1]'),\n",
       " Text(862.1232227488151, 486.3789473684211, 'gini = 0.0\\nsamples = 2\\nvalue = [2, 0]'),\n",
       " Text(893.8578199052133, 543.6, 'X[2] <= 43.0\\ngini = 0.198\\nsamples = 9\\nvalue = [1, 8]'),\n",
       " Text(883.2796208530806, 486.3789473684211, 'gini = 0.0\\nsamples = 6\\nvalue = [0, 6]'),\n",
       " Text(904.4360189573459, 486.3789473684211, 'X[2] <= 44.5\\ngini = 0.444\\nsamples = 3\\nvalue = [1, 2]'),\n",
       " Text(893.8578199052133, 429.1578947368421, 'gini = 0.0\\nsamples = 1\\nvalue = [1, 0]'),\n",
       " Text(915.0142180094787, 429.1578947368421, 'gini = 0.0\\nsamples = 2\\nvalue = [0, 2]'),\n",
       " Text(893.8578199052133, 715.2631578947369, 'X[5] <= 18.525\\ngini = 0.5\\nsamples = 2\\nvalue = [1, 1]'),\n",
       " Text(883.2796208530806, 658.042105263158, 'gini = 0.0\\nsamples = 1\\nvalue = [1, 0]'),\n",
       " Text(904.4360189573459, 658.042105263158, 'gini = 0.0\\nsamples = 1\\nvalue = [0, 1]'),\n",
       " Text(885.9241706161138, 772.4842105263158, 'gini = 0.0\\nsamples = 1\\nvalue = [1, 0]'),\n",
       " Text(896.5023696682464, 829.7052631578947, 'gini = 0.0\\nsamples = 76\\nvalue = [0, 76]'),\n",
       " Text(1026.085308056872, 944.1473684210526, 'X[5] <= 23.087\\ngini = 0.498\\nsamples = 77\\nvalue = [41, 36]'),\n",
       " Text(994.3507109004739, 886.9263157894737, 'X[2] <= 6.5\\ngini = 0.492\\nsamples = 62\\nvalue = [27, 35]'),\n",
       " Text(983.7725118483412, 829.7052631578947, 'gini = 0.0\\nsamples = 7\\nvalue = [0, 7]'),\n",
       " Text(1004.9289099526067, 829.7052631578947, 'X[4] <= 1.5\\ngini = 0.5\\nsamples = 55\\nvalue = [27, 28]'),\n",
       " Text(994.3507109004739, 772.4842105263158, 'X[5] <= 7.742\\ngini = 0.497\\nsamples = 50\\nvalue = [27, 23]'),\n",
       " Text(957.3270142180095, 715.2631578947369, 'X[5] <= 6.987\\ngini = 0.245\\nsamples = 7\\nvalue = [1, 6]'),\n",
       " Text(946.7488151658767, 658.042105263158, 'gini = 0.0\\nsamples = 1\\nvalue = [1, 0]'),\n",
       " Text(967.9052132701422, 658.042105263158, 'gini = 0.0\\nsamples = 6\\nvalue = [0, 6]'),\n",
       " Text(1031.3744075829384, 715.2631578947369, 'X[5] <= 13.438\\ngini = 0.478\\nsamples = 43\\nvalue = [26, 17]'),\n",
       " Text(989.0616113744076, 658.042105263158, 'X[5] <= 10.879\\ngini = 0.497\\nsamples = 28\\nvalue = [15, 13]'),\n",
       " Text(978.4834123222748, 600.821052631579, 'X[3] <= 0.5\\ngini = 0.48\\nsamples = 25\\nvalue = [15, 10]'),\n",
       " Text(967.9052132701422, 543.6, 'X[2] <= 27.0\\ngini = 0.499\\nsamples = 21\\nvalue = [11, 10]'),\n",
       " Text(946.7488151658767, 486.3789473684211, 'X[2] <= 25.0\\ngini = 0.492\\nsamples = 16\\nvalue = [7, 9]'),\n",
       " Text(936.170616113744, 429.1578947368421, 'X[2] <= 22.5\\ngini = 0.5\\nsamples = 14\\nvalue = [7, 7]'),\n",
       " Text(925.5924170616114, 371.93684210526317, 'X[5] <= 10.179\\ngini = 0.486\\nsamples = 12\\nvalue = [5, 7]'),\n",
       " Text(915.0142180094787, 314.71578947368425, 'X[2] <= 21.5\\ngini = 0.463\\nsamples = 11\\nvalue = [4, 7]'),\n",
       " Text(904.4360189573459, 257.4947368421052, 'X[5] <= 9.006\\ngini = 0.5\\nsamples = 8\\nvalue = [4, 4]'),\n",
       " Text(893.8578199052133, 200.2736842105263, 'X[2] <= 19.5\\ngini = 0.444\\nsamples = 6\\nvalue = [4, 2]'),\n",
       " Text(883.2796208530806, 143.0526315789474, 'X[5] <= 7.763\\ngini = 0.5\\nsamples = 4\\nvalue = [2, 2]'),\n",
       " Text(872.7014218009479, 85.83157894736848, 'gini = 0.0\\nsamples = 1\\nvalue = [0, 1]'),\n",
       " Text(893.8578199052133, 85.83157894736848, 'X[2] <= 18.5\\ngini = 0.444\\nsamples = 3\\nvalue = [2, 1]'),\n",
       " Text(883.2796208530806, 28.610526315789457, 'gini = 0.0\\nsamples = 2\\nvalue = [2, 0]'),\n",
       " Text(904.4360189573459, 28.610526315789457, 'gini = 0.0\\nsamples = 1\\nvalue = [0, 1]'),\n",
       " Text(904.4360189573459, 143.0526315789474, 'gini = 0.0\\nsamples = 2\\nvalue = [2, 0]'),\n",
       " Text(915.0142180094787, 200.2736842105263, 'gini = 0.0\\nsamples = 2\\nvalue = [0, 2]'),\n",
       " Text(925.5924170616114, 257.4947368421052, 'gini = 0.0\\nsamples = 3\\nvalue = [0, 3]'),\n",
       " Text(936.170616113744, 314.71578947368425, 'gini = 0.0\\nsamples = 1\\nvalue = [1, 0]'),\n",
       " Text(946.7488151658767, 371.93684210526317, 'gini = 0.0\\nsamples = 2\\nvalue = [2, 0]'),\n",
       " Text(957.3270142180095, 429.1578947368421, 'gini = 0.0\\nsamples = 2\\nvalue = [0, 2]'),\n",
       " Text(989.0616113744076, 486.3789473684211, 'X[5] <= 8.742\\ngini = 0.32\\nsamples = 5\\nvalue = [4, 1]'),\n",
       " Text(978.4834123222748, 429.1578947368421, 'gini = 0.0\\nsamples = 4\\nvalue = [4, 0]'),\n",
       " Text(999.6398104265403, 429.1578947368421, 'gini = 0.0\\nsamples = 1\\nvalue = [0, 1]'),\n",
       " Text(989.0616113744076, 543.6, 'gini = 0.0\\nsamples = 4\\nvalue = [4, 0]'),\n",
       " Text(999.6398104265403, 600.821052631579, 'gini = 0.0\\nsamples = 3\\nvalue = [0, 3]'),\n",
       " Text(1073.6872037914693, 658.042105263158, 'X[2] <= 32.5\\ngini = 0.391\\nsamples = 15\\nvalue = [11, 4]'),\n",
       " Text(1052.5308056872038, 600.821052631579, 'X[4] <= 0.5\\ngini = 0.278\\nsamples = 12\\nvalue = [10, 2]'),\n",
       " Text(1041.952606635071, 543.6, 'X[5] <= 16.825\\ngini = 0.408\\nsamples = 7\\nvalue = [5, 2]'),\n",
       " Text(1031.3744075829384, 486.3789473684211, 'X[2] <= 14.75\\ngini = 0.5\\nsamples = 4\\nvalue = [2, 2]'),\n",
       " Text(1020.7962085308056, 429.1578947368421, 'gini = 0.0\\nsamples = 1\\nvalue = [1, 0]'),\n",
       " Text(1041.952606635071, 429.1578947368421, 'X[3] <= 0.5\\ngini = 0.444\\nsamples = 3\\nvalue = [1, 2]'),\n",
       " Text(1031.3744075829384, 371.93684210526317, 'gini = 0.0\\nsamples = 1\\nvalue = [1, 0]'),\n",
       " Text(1052.5308056872038, 371.93684210526317, 'gini = 0.0\\nsamples = 2\\nvalue = [0, 2]'),\n",
       " Text(1052.5308056872038, 486.3789473684211, 'gini = 0.0\\nsamples = 3\\nvalue = [3, 0]'),\n",
       " Text(1063.1090047393366, 543.6, 'gini = 0.0\\nsamples = 5\\nvalue = [5, 0]'),\n",
       " Text(1094.8436018957345, 600.821052631579, 'X[2] <= 40.0\\ngini = 0.444\\nsamples = 3\\nvalue = [1, 2]'),\n",
       " Text(1084.2654028436018, 543.6, 'gini = 0.0\\nsamples = 2\\nvalue = [0, 2]'),\n",
       " Text(1105.4218009478673, 543.6, 'gini = 0.0\\nsamples = 1\\nvalue = [1, 0]'),\n",
       " Text(1015.5071090047393, 772.4842105263158, 'gini = 0.0\\nsamples = 5\\nvalue = [0, 5]'),\n",
       " Text(1057.8199052132702, 886.9263157894737, 'X[2] <= 5.5\\ngini = 0.124\\nsamples = 15\\nvalue = [14, 1]'),\n",
       " Text(1047.2417061611375, 829.7052631578947, 'X[5] <= 31.331\\ngini = 0.444\\nsamples = 3\\nvalue = [2, 1]'),\n",
       " Text(1036.6635071090047, 772.4842105263158, 'gini = 0.0\\nsamples = 2\\nvalue = [2, 0]'),\n",
       " Text(1057.8199052132702, 772.4842105263158, 'gini = 0.0\\nsamples = 1\\nvalue = [0, 1]'),\n",
       " Text(1068.398104265403, 829.7052631578947, 'gini = 0.0\\nsamples = 12\\nvalue = [12, 0]')]"
      ]
     },
     "execution_count": 22,
     "metadata": {},
     "output_type": "execute_result"
    },
    {
     "data": {
      "image/png": "[encoded data removed]",
      "text/plain": [
       "<Figure size 1440x1440 with 1 Axes>"
      ]
     },
     "metadata": {
      "needs_background": "light"
     },
     "output_type": "display_data"
    }
   ],
   "source": [
    "plt.figure(figsize=(20,20))\n",
    "tree.plot_tree(Model)   # seems like tree is complicated try to reduce the complexity"
   ]
  },
  {
   "cell_type": "code",
   "execution_count": 23,
   "id": "d1f302aa",
   "metadata": {},
   "outputs": [
    {
     "data": {
      "text/plain": [
       "0.9411764705882353"
      ]
     },
     "execution_count": 23,
     "metadata": {},
     "output_type": "execute_result"
    }
   ],
   "source": [
    "Model.score(X,y)   #training score"
   ]
  },
  {
   "cell_type": "code",
   "execution_count": 24,
   "id": "65ce9a58",
   "metadata": {},
   "outputs": [
    {
     "data": {
      "text/plain": [
       "0.7692307692307693"
      ]
     },
     "execution_count": 24,
     "metadata": {},
     "output_type": "execute_result"
    }
   ],
   "source": [
    "Model.score(X_test,Y_test)  # testing score"
   ]
  },
  {
   "cell_type": "markdown",
   "id": "eef330d2",
   "metadata": {},
   "source": [
    "## let's Tune our model to get good accuracy of both training and testing data"
   ]
  },
  {
   "cell_type": "code",
   "execution_count": 25,
   "id": "e540defa",
   "metadata": {},
   "outputs": [],
   "source": [
    "param_grids = {\"criterion\":[\"gini\", \"entropy\"],\n",
    "              \"splitter\":[\"best\", \"random\"],\n",
    "              \"max_depth\" : range(2,15,1)   \n",
    "             }     \n",
    "#selecting parameter for hyperparameter tuning"
   ]
  },
  {
   "cell_type": "code",
   "execution_count": 26,
   "id": "87650cc6",
   "metadata": {},
   "outputs": [],
   "source": [
    "from sklearn.model_selection import GridSearchCV"
   ]
  },
  {
   "cell_type": "code",
   "execution_count": 27,
   "id": "7e509194",
   "metadata": {},
   "outputs": [],
   "source": [
    "Grid_param = GridSearchCV(estimator=Model,param_grid=param_grids,cv=10,n_jobs=-1)   # starting tuning our model"
   ]
  },
  {
   "cell_type": "code",
   "execution_count": 28,
   "id": "53f1014e",
   "metadata": {},
   "outputs": [
    {
     "data": {
      "text/plain": [
       "GridSearchCV(cv=10, estimator=DecisionTreeClassifier(), n_jobs=-1,\n",
       "             param_grid={'criterion': ['gini', 'entropy'],\n",
       "                         'max_depth': range(2, 15),\n",
       "                         'splitter': ['best', 'random']})"
      ]
     },
     "execution_count": 28,
     "metadata": {},
     "output_type": "execute_result"
    }
   ],
   "source": [
    "Grid_param.fit(X_train,Y_train)"
   ]
  },
  {
   "cell_type": "code",
   "execution_count": 29,
   "id": "6641fdc0",
   "metadata": {},
   "outputs": [
    {
     "data": {
      "text/plain": [
       "{'criterion': 'entropy', 'max_depth': 6, 'splitter': 'best'}"
      ]
     },
     "execution_count": 29,
     "metadata": {},
     "output_type": "execute_result"
    }
   ],
   "source": [
    "Grid_param.best_params_   # get the best parameter for our model"
   ]
  },
  {
   "cell_type": "code",
   "execution_count": 30,
   "id": "a59974df",
   "metadata": {},
   "outputs": [],
   "source": [
    "Decision_tree_model = DecisionTreeClassifier(criterion='gini',max_depth=6,splitter='random')"
   ]
  },
  {
   "cell_type": "code",
   "execution_count": 31,
   "id": "9a74d829",
   "metadata": {},
   "outputs": [
    {
     "data": {
      "text/plain": [
       "DecisionTreeClassifier(max_depth=6, splitter='random')"
      ]
     },
     "execution_count": 31,
     "metadata": {},
     "output_type": "execute_result"
    }
   ],
   "source": [
    "Decision_tree_model.fit(X_train,Y_train) # check the accuracy of training data"
   ]
  },
  {
   "cell_type": "code",
   "execution_count": 32,
   "id": "b934ba33",
   "metadata": {},
   "outputs": [
    {
     "data": {
      "text/plain": [
       "0.7972027972027972"
      ]
     },
     "execution_count": 32,
     "metadata": {},
     "output_type": "execute_result"
    }
   ],
   "source": [
    "Decision_tree_model.score(X_test,Y_test)    # check the accuracy of testing data"
   ]
  },
  {
   "cell_type": "code",
   "execution_count": 33,
   "id": "081ac4af",
   "metadata": {},
   "outputs": [
    {
     "data": {
      "text/plain": [
       "0.8333333333333334"
      ]
     },
     "execution_count": 33,
     "metadata": {},
     "output_type": "execute_result"
    }
   ],
   "source": [
    "Decision_tree_model.score(X,y)"
   ]
  },
  {
   "cell_type": "code",
   "execution_count": 34,
   "id": "0212dfaf",
   "metadata": {},
   "outputs": [
    {
     "data": {
      "text/plain": [
       "[Text(167.7671052631579, 201.90857142857143, 'X[1] <= 0.562\\ngini = 0.488\\nsamples = 571\\nvalue = [330, 241]'),\n",
       " Text(78.56052631578947, 170.84571428571428, 'X[0] <= 1.317\\ngini = 0.344\\nsamples = 362\\nvalue = [282, 80]'),\n",
       " Text(35.242105263157896, 139.78285714285715, 'X[4] <= 1.592\\ngini = 0.494\\nsamples = 79\\nvalue = [44, 35]'),\n",
       " Text(17.621052631578948, 108.72, 'X[5] <= 430.171\\ngini = 0.49\\nsamples = 72\\nvalue = [41, 31]'),\n",
       " Text(11.747368421052633, 77.65714285714284, 'X[2] <= 20.862\\ngini = 0.485\\nsamples = 70\\nvalue = [41, 29]'),\n",
       " Text(5.873684210526316, 46.59428571428572, 'gini = 0.0\\nsamples = 2\\nvalue = [2, 0]'),\n",
       " Text(17.621052631578948, 46.59428571428572, 'X[3] <= 1.454\\ngini = 0.489\\nsamples = 68\\nvalue = [39, 29]'),\n",
       " Text(11.747368421052633, 15.531428571428563, 'gini = 0.487\\nsamples = 67\\nvalue = [39, 28]'),\n",
       " Text(23.494736842105265, 15.531428571428563, 'gini = 0.0\\nsamples = 1\\nvalue = [0, 1]'),\n",
       " Text(23.494736842105265, 77.65714285714284, 'gini = 0.0\\nsamples = 2\\nvalue = [0, 2]'),\n",
       " Text(52.863157894736844, 108.72, 'X[3] <= 1.529\\ngini = 0.49\\nsamples = 7\\nvalue = [3, 4]'),\n",
       " Text(46.98947368421053, 77.65714285714284, 'X[5] <= 153.428\\ngini = 0.444\\nsamples = 6\\nvalue = [2, 4]'),\n",
       " Text(41.11578947368422, 46.59428571428572, 'X[2] <= 25.671\\ngini = 0.32\\nsamples = 5\\nvalue = [1, 4]'),\n",
       " Text(35.242105263157896, 15.531428571428563, 'gini = 0.0\\nsamples = 3\\nvalue = [0, 3]'),\n",
       " Text(46.98947368421053, 15.531428571428563, 'gini = 0.5\\nsamples = 2\\nvalue = [1, 1]'),\n",
       " Text(52.863157894736844, 46.59428571428572, 'gini = 0.0\\nsamples = 1\\nvalue = [1, 0]'),\n",
       " Text(58.736842105263165, 77.65714285714284, 'gini = 0.0\\nsamples = 1\\nvalue = [1, 0]'),\n",
       " Text(121.87894736842107, 139.78285714285715, 'X[4] <= 1.958\\ngini = 0.267\\nsamples = 283\\nvalue = [238, 45]'),\n",
       " Text(96.91578947368421, 108.72, 'X[4] <= 0.526\\ngini = 0.26\\nsamples = 267\\nvalue = [226, 41]'),\n",
       " Text(76.35789473684211, 77.65714285714284, 'X[0] <= 2.739\\ngini = 0.217\\nsamples = 234\\nvalue = [205, 29]'),\n",
       " Text(64.61052631578949, 46.59428571428572, 'X[2] <= 29.535\\ngini = 0.172\\nsamples = 63\\nvalue = [57, 6]'),\n",
       " Text(58.736842105263165, 15.531428571428563, 'gini = 0.077\\nsamples = 25\\nvalue = [24, 1]'),\n",
       " Text(70.48421052631579, 15.531428571428563, 'gini = 0.229\\nsamples = 38\\nvalue = [33, 5]'),\n",
       " Text(88.10526315789474, 46.59428571428572, 'X[2] <= 46.039\\ngini = 0.233\\nsamples = 171\\nvalue = [148, 23]'),\n",
       " Text(82.23157894736843, 15.531428571428563, 'gini = 0.245\\nsamples = 161\\nvalue = [138, 23]'),\n",
       " Text(93.97894736842106, 15.531428571428563, 'gini = 0.0\\nsamples = 10\\nvalue = [10, 0]'),\n",
       " Text(117.47368421052633, 77.65714285714284, 'X[2] <= 24.69\\ngini = 0.463\\nsamples = 33\\nvalue = [21, 12]'),\n",
       " Text(111.60000000000001, 46.59428571428572, 'X[3] <= 2.802\\ngini = 0.499\\nsamples = 25\\nvalue = [13, 12]'),\n",
       " Text(105.72631578947369, 15.531428571428563, 'gini = 0.375\\nsamples = 16\\nvalue = [4, 12]'),\n",
       " Text(117.47368421052633, 15.531428571428563, 'gini = 0.0\\nsamples = 9\\nvalue = [9, 0]'),\n",
       " Text(123.34736842105264, 46.59428571428572, 'gini = 0.0\\nsamples = 8\\nvalue = [8, 0]'),\n",
       " Text(146.84210526315792, 108.72, 'X[2] <= 16.352\\ngini = 0.375\\nsamples = 16\\nvalue = [12, 4]'),\n",
       " Text(140.96842105263158, 77.65714285714284, 'X[0] <= 2.818\\ngini = 0.444\\nsamples = 12\\nvalue = [8, 4]'),\n",
       " Text(135.09473684210528, 46.59428571428572, 'gini = 0.0\\nsamples = 2\\nvalue = [0, 2]'),\n",
       " Text(146.84210526315792, 46.59428571428572, 'X[2] <= 3.134\\ngini = 0.32\\nsamples = 10\\nvalue = [8, 2]'),\n",
       " Text(140.96842105263158, 15.531428571428563, 'gini = 0.444\\nsamples = 3\\nvalue = [1, 2]'),\n",
       " Text(152.71578947368423, 15.531428571428563, 'gini = 0.0\\nsamples = 7\\nvalue = [7, 0]'),\n",
       " Text(152.71578947368423, 77.65714285714284, 'gini = 0.0\\nsamples = 4\\nvalue = [4, 0]'),\n",
       " Text(256.97368421052636, 170.84571428571428, 'X[0] <= 2.477\\ngini = 0.354\\nsamples = 209\\nvalue = [48, 161]'),\n",
       " Text(211.45263157894738, 139.78285714285715, 'X[0] <= 1.408\\ngini = 0.1\\nsamples = 132\\nvalue = [7, 125]'),\n",
       " Text(187.95789473684212, 108.72, 'X[2] <= 42.722\\ngini = 0.053\\nsamples = 73\\nvalue = [2, 71]'),\n",
       " Text(176.21052631578948, 77.65714285714284, 'X[2] <= 22.923\\ngini = 0.038\\nsamples = 51\\nvalue = [1, 50]'),\n",
       " Text(170.33684210526317, 46.59428571428572, 'X[2] <= 11.676\\ngini = 0.117\\nsamples = 16\\nvalue = [1, 15]'),\n",
       " Text(164.46315789473687, 15.531428571428563, 'gini = 0.0\\nsamples = 1\\nvalue = [1, 0]'),\n",
       " Text(176.21052631578948, 15.531428571428563, 'gini = 0.0\\nsamples = 15\\nvalue = [0, 15]'),\n",
       " Text(182.08421052631581, 46.59428571428572, 'gini = 0.0\\nsamples = 35\\nvalue = [0, 35]'),\n",
       " Text(199.70526315789476, 77.65714285714284, 'X[3] <= 0.578\\ngini = 0.087\\nsamples = 22\\nvalue = [1, 21]'),\n",
       " Text(193.83157894736843, 46.59428571428572, 'X[4] <= 0.202\\ngini = 0.165\\nsamples = 11\\nvalue = [1, 10]'),\n",
       " Text(187.95789473684212, 15.531428571428563, 'gini = 0.278\\nsamples = 6\\nvalue = [1, 5]'),\n",
       " Text(199.70526315789476, 15.531428571428563, 'gini = 0.0\\nsamples = 5\\nvalue = [0, 5]'),\n",
       " Text(205.57894736842107, 46.59428571428572, 'gini = 0.0\\nsamples = 11\\nvalue = [0, 11]'),\n",
       " Text(234.94736842105266, 108.72, 'X[2] <= 40.442\\ngini = 0.155\\nsamples = 59\\nvalue = [5, 54]'),\n",
       " Text(223.20000000000002, 77.65714285714284, 'X[2] <= 27.62\\ngini = 0.12\\nsamples = 47\\nvalue = [3, 44]'),\n",
       " Text(217.3263157894737, 46.59428571428572, 'X[4] <= 0.275\\ngini = 0.211\\nsamples = 25\\nvalue = [3, 22]'),\n",
       " Text(211.45263157894738, 15.531428571428563, 'gini = 0.32\\nsamples = 10\\nvalue = [2, 8]'),\n",
       " Text(223.20000000000002, 15.531428571428563, 'gini = 0.124\\nsamples = 15\\nvalue = [1, 14]'),\n",
       " Text(229.07368421052632, 46.59428571428572, 'gini = 0.0\\nsamples = 22\\nvalue = [0, 22]'),\n",
       " Text(246.69473684210527, 77.65714285714284, 'X[4] <= 2.815\\ngini = 0.278\\nsamples = 12\\nvalue = [2, 10]'),\n",
       " Text(240.82105263157897, 46.59428571428572, 'X[5] <= 52.614\\ngini = 0.298\\nsamples = 11\\nvalue = [2, 9]'),\n",
       " Text(234.94736842105266, 15.531428571428563, 'gini = 0.32\\nsamples = 10\\nvalue = [2, 8]'),\n",
       " Text(246.69473684210527, 15.531428571428563, 'gini = 0.0\\nsamples = 1\\nvalue = [0, 1]'),\n",
       " Text(252.5684210526316, 46.59428571428572, 'gini = 0.0\\nsamples = 1\\nvalue = [0, 1]'),\n",
       " Text(302.4947368421053, 139.78285714285715, 'X[5] <= 21.735\\ngini = 0.498\\nsamples = 77\\nvalue = [41, 36]'),\n",
       " Text(281.93684210526317, 108.72, 'X[3] <= 0.758\\ngini = 0.493\\nsamples = 61\\nvalue = [27, 34]'),\n",
       " Text(270.18947368421055, 77.65714285714284, 'X[4] <= 1.219\\ngini = 0.469\\nsamples = 40\\nvalue = [15, 25]'),\n",
       " Text(264.3157894736842, 46.59428571428572, 'X[5] <= 6.926\\ngini = 0.49\\nsamples = 35\\nvalue = [15, 20]'),\n",
       " Text(258.44210526315794, 15.531428571428563, 'gini = 0.0\\nsamples = 1\\nvalue = [1, 0]'),\n",
       " Text(270.18947368421055, 15.531428571428563, 'gini = 0.484\\nsamples = 34\\nvalue = [14, 20]'),\n",
       " Text(276.0631578947369, 46.59428571428572, 'gini = 0.0\\nsamples = 5\\nvalue = [0, 5]'),\n",
       " Text(293.68421052631584, 77.65714285714284, 'X[4] <= 1.922\\ngini = 0.49\\nsamples = 21\\nvalue = [12, 9]'),\n",
       " Text(287.8105263157895, 46.59428571428572, 'X[2] <= 14.345\\ngini = 0.48\\nsamples = 20\\nvalue = [12, 8]'),\n",
       " Text(281.93684210526317, 15.531428571428563, 'gini = 0.444\\nsamples = 6\\nvalue = [2, 4]'),\n",
       " Text(293.68421052631584, 15.531428571428563, 'gini = 0.408\\nsamples = 14\\nvalue = [10, 4]'),\n",
       " Text(299.5578947368421, 46.59428571428572, 'gini = 0.0\\nsamples = 1\\nvalue = [0, 1]'),\n",
       " Text(323.0526315789474, 108.72, 'X[2] <= 12.889\\ngini = 0.219\\nsamples = 16\\nvalue = [14, 2]'),\n",
       " Text(317.17894736842106, 77.65714285714284, 'X[5] <= 23.054\\ngini = 0.346\\nsamples = 9\\nvalue = [7, 2]'),\n",
       " Text(311.3052631578948, 46.59428571428572, 'gini = 0.0\\nsamples = 1\\nvalue = [0, 1]'),\n",
       " Text(323.0526315789474, 46.59428571428572, 'X[2] <= 2.397\\ngini = 0.219\\nsamples = 8\\nvalue = [7, 1]'),\n",
       " Text(317.17894736842106, 15.531428571428563, 'gini = 0.0\\nsamples = 2\\nvalue = [2, 0]'),\n",
       " Text(328.92631578947373, 15.531428571428563, 'gini = 0.278\\nsamples = 6\\nvalue = [5, 1]'),\n",
       " Text(328.92631578947373, 77.65714285714284, 'gini = 0.0\\nsamples = 7\\nvalue = [7, 0]')]"
      ]
     },
     "execution_count": 34,
     "metadata": {},
     "output_type": "execute_result"
    },
    {
     "data": {
      "image/png": "[encoded data removed]",
      "text/plain": [
       "<Figure size 432x288 with 1 Axes>"
      ]
     },
     "metadata": {
      "needs_background": "light"
     },
     "output_type": "display_data"
    }
   ],
   "source": [
    "tree.plot_tree(Decision_tree_model)"
   ]
  },
  {
   "cell_type": "code",
   "execution_count": 35,
   "id": "964c8f34",
   "metadata": {},
   "outputs": [],
   "source": [
    "import pickle\n",
    "pickle.dump(Decision_tree_model, open('Decision_tree_model.pkl', 'wb'))"
   ]
  },
  {
   "cell_type": "code",
   "execution_count": 36,
   "id": "a97756f2",
   "metadata": {},
   "outputs": [],
   "source": [
    "import pickle\n",
    "model = pickle.load(open('Decision_tree_model.pkl', 'rb'))"
   ]
  },
  {
   "cell_type": "code",
   "execution_count": 37,
   "id": "e9cff606",
   "metadata": {},
   "outputs": [],
   "source": [
    "pred = model.predict(X_test)"
   ]
  },
  {
   "cell_type": "code",
   "execution_count": 38,
   "id": "159d2bd8",
   "metadata": {},
   "outputs": [
    {
     "data": {
      "text/plain": [
       "'              precision    recall  f1-score   support\\n\\n           0       0.86      0.89      0.88        94\\n           1       0.78      0.71      0.74        49\\n\\n    accuracy                           0.83       143\\n   macro avg       0.82      0.80      0.81       143\\nweighted avg       0.83      0.83      0.83       143\\n'"
      ]
     },
     "execution_count": 38,
     "metadata": {},
     "output_type": "execute_result"
    }
   ],
   "source": [
    "classification_report(Y_test,pred)"
   ]
  },
  {
   "cell_type": "code",
   "execution_count": 78,
   "id": "27b9652a",
   "metadata": {},
   "outputs": [
    {
     "data": {
      "text/plain": [
       "array([1], dtype=int64)"
      ]
     },
     "execution_count": 78,
     "metadata": {},
     "output_type": "execute_result"
    }
   ],
   "source": [
    "model.predict(np.array([1,1,35.0,1,0,53.1000]).reshape(1,6))  # check random data from original data"
   ]
  },
  {
   "cell_type": "code",
   "execution_count": null,
   "id": "7553648a",
   "metadata": {},
   "outputs": [],
   "source": []
  }
 ],
 "metadata": {
  "kernelspec": {
   "display_name": "Python 3.10.8 64-bit (microsoft store)",
   "language": "python",
   "name": "python3"
  },
  "language_info": {
   "codemirror_mode": {
    "name": "ipython",
    "version": 3
   },
   "file_extension": ".py",
   "mimetype": "text/x-python",
   "name": "python",
   "nbconvert_exporter": "python",
   "pygments_lexer": "ipython3",
   "version": "3.10.8"
  },
  "vscode": {
   "interpreter": {
    "hash": "5c41cc7a6bf458ae2af5583a7906ef5f402c759b4882f3cbfc8ede19b81b2d2f"
   }
  }
 },
 "nbformat": 4,
 "nbformat_minor": 5
}
